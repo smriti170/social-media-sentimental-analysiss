{
 "cells": [
  {
   "cell_type": "code",
   "execution_count": null,
   "metadata": {},
   "outputs": [],
   "source": [
    "import pandas as pd\n",
    "import re\n",
    "import matplotlib.pyplot as plt\n",
    "from nltk.sentiment.vader import SentimentIntensityAnalyzer\n",
    "import nltk\n",
    "\n",
    "nltk.download(\"vader_lexicon\")  # Download the VADER lexicon\n",
    "# Load your dataset (e.g., CSV file containing tweets)\n",
    "data = pd.read_csv(\"social_media_data.csv\")\n",
    "# Isolate Tweet Texts\n",
    "tweets = data[\"text\"]\n",
    "\n",
    "# Function to remove @ mentions\n",
    "def remove_ats(tweet):\n",
    "    \"\"\"Removes the @ symbol and the word following it from a tweet\"\"\"\n",
    "    return re.sub(r\"@\\w+\", \"\", tweet)\n",
    "\n",
    "# Apply the function to remove @ mentions\n",
    "tweets_without_at = [remove_ats(text) for text in tweets]\n",
    "# Initialize the VADER sentiment analyzer\n",
    "analyzer = SentimentIntensityAnalyzer()\n",
    "\n",
    "# Create a list to hold sentiment scores\n",
    "sentiments = []\n",
    "\n",
    "# Calculate sentiment scores for each tweet\n",
    "for tweet in tweets_without_at:\n",
    "    sentiments.append(analyzer.polarity_scores(tweet).get(\"compound\"))\n",
    "\n",
    "# Add sentiment scores to the DataFrame\n",
    "data[\"sentiment\"] = sentiments\n",
    "# Convert tweet timestamps to datetime objects if available\n",
    "data['tweet_created'] = pd.to_datetime(data['tweet_created'])\n",
    "\n",
    "# Set the index to the tweet timestamps\n",
    "data.set_index('tweet_created', inplace=True)\n",
    "\n",
    "# Resample the data by hour and calculate the mean sentiment score\n",
    "data_hourly = data.resample('H').mean()\n",
    "\n",
    "# Plot the sentiment scores over time\n",
    "plt.figure(figsize=(10, 6))\n",
    "plt.title(\"Average Sentiment Over Time\")\n",
    "plt.ylim([-1, 1])\n",
    "plt.plot(data_hourly.index, data_hourly[\"sentiment\"])\n",
    "plt.xlabel(\"Time\")\n",
    "plt.ylabel(\"Average Sentiment Score\")\n",
    "plt.show()"
   ]
  }
 ],
 "metadata": {
  "language_info": {
   "name": "python"
  }
 },
 "nbformat": 4,
 "nbformat_minor": 2
}
